{
 "cells": [
  {
   "cell_type": "code",
   "execution_count": null,
   "metadata": {},
   "outputs": [],
   "source": [
    "#     #plotting the table\n",
    "#     fig, ax = plt.subplots()\n",
    "#     clust_data = np.random.random((10,3))\n",
    "#     ax.axis('off')\n",
    "#     values = []\n",
    "#     values.append(['T-Statistic',t_14_15])\n",
    "#     values.append(['T-critical',tcritical])\n",
    "#     values.append(['Confidence Interval','95%'])\n",
    "#     values.append(['p-value',tcrit[1]])\n",
    "#     df = pd.DataFrame(values)\n",
    "#     ax.table(cellText=df.values,loc='top')\n",
    "#     fig.tight_layout()"
   ]
  }
 ],
 "metadata": {
  "kernelspec": {
   "display_name": "Python 3",
   "language": "python",
   "name": "python3"
  },
  "language_info": {
   "codemirror_mode": {
    "name": "ipython",
    "version": 3
   },
   "file_extension": ".py",
   "mimetype": "text/x-python",
   "name": "python",
   "nbconvert_exporter": "python",
   "pygments_lexer": "ipython3",
   "version": "3.6.2"
  }
 },
 "nbformat": 4,
 "nbformat_minor": 2
}
