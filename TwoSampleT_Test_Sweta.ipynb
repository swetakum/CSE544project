{
 "cells": [
  {
   "cell_type": "code",
   "execution_count": 101,
   "metadata": {},
   "outputs": [
    {
     "name": "stderr",
     "output_type": "stream",
     "text": [
      "c:\\users\\sweta\\appdata\\local\\programs\\python\\python36-32\\lib\\site-packages\\IPython\\core\\interactiveshell.py:2728: DtypeWarning: Columns (4,24,28) have mixed types. Specify dtype option on import or set low_memory=False.\n",
      "  interactivity=interactivity, compiler=compiler, result=result)\n"
     ]
    }
   ],
   "source": [
    "\"\"\"\n",
    "Null Hypothesis : Pay does not increase in 2015\n",
    "Alternate Hypothesis: It increases\n",
    "Technique : Two sample T - test\n",
    "\"\"\"\n",
    "\n",
    "import pandas as pd\n",
    "import numpy as np\n",
    "import matplotlib.pyplot as plt\n",
    "import statistics\n",
    "import math\n",
    "from scipy import stats\n",
    "from scipy.stats import distributions as dists \n",
    "\n",
    "payroll = pd.read_csv(\"processed_data.csv\")"
   ]
  },
  {
   "cell_type": "code",
   "execution_count": 102,
   "metadata": {},
   "outputs": [],
   "source": [
    "def twosamplettest(payroll,year1, year2, attribute):\n",
    "    payroll_2014 = payroll[payroll.year ==year1]\n",
    "    payroll_2015 = payroll[payroll.year ==year2]\n",
    "    payroll_2014 = payroll_2014[payroll_2014[attribute] != 0]\n",
    "    payroll_2015 = payroll_2015[payroll_2015[attribute] != 0]\n",
    "    # print(len(payroll_2014),len(payroll_2015), len(payroll_2016))\n",
    "\n",
    "    #Assume Normality as per CLT - Pre-reqisite of Paired T test\n",
    "\n",
    "    #Population Statistics\n",
    "    payroll_2014_pop_mean = payroll_2014[attribute].mean()\n",
    "    payroll_2014_std = statistics.stdev(payroll_2014.total_payments)\n",
    "    payroll_2014_list = payroll_2014[attribute].values\n",
    "    # print(payroll_2014_pop_mean, payroll_2014_std)\n",
    "\n",
    "    payroll_2015_pop_mean = payroll_2015[attribute].mean()\n",
    "    payroll_2015_std = statistics.stdev(payroll_2015.total_payments)\n",
    "    payroll_2015_list = payroll_2015[attribute].values\n",
    "\n",
    "    # print(payroll_2015_pop_mean, payroll_2015_std)\n",
    "\n",
    "    df1 = len(payroll_2014) + len(payroll_2015)-2 #Degree of Freedom\n",
    "\n",
    "    t_denom_14_15 = math.sqrt(((payroll_2014_std**2)/len(payroll_2014))+((payroll_2015_std**2)/len(payroll_2015)))\n",
    "    t_14_15 = (payroll_2014_pop_mean - payroll_2015_pop_mean)/t_denom_14_15\n",
    "    print(\"T-statsistic = \", t_14_15)\n",
    "    # print(stats.ttest_ind(payroll_2014_list, payroll_2015_list))\n",
    "\n",
    "    tcritical = dists.t.ppf(1-(0.05), df1) \n",
    "    print(\"T-Critical(Upper-tail) = \",tcritical)\n",
    "    tcrit= stats.ttest_ind(payroll_2014_list,payroll_2015_list)\n",
    "    print(\"p-value = \",tcrit[1])\n",
    "    if(t_14_15 > tcritical):\n",
    "        print(\"Since \",t_14_15, \" > \",tcritical,\", We reject the Null Hypothesis and accept the alternate hypothesis which says that the \",attribute,\" increases in \",year2, \"(as compared to\",year1,\").\")\n",
    "    else:\n",
    "        print(\"We accept H0: \",attribute,\" does not increase in\",year2, \"(as compared to\",year1,\").\")\n",
    "    \n",
    "   \n",
    "    #Plotting the graph\n",
    "    plt.figure(figsize=(20,10))\n",
    "    payroll_2014.insert(0, 'ID', range(0, 0 + len(payroll_2014)))\n",
    "    payroll_2015.insert(0, 'ID', range(0, 0 + len(payroll_2015)))\n",
    "    plt.plot(payroll_2014['ID'], payroll_2014[attribute],label = year1)\n",
    "    plt.plot(payroll_2015['ID'], payroll_2015[attribute],label = year2)\n",
    "    plt.legend()\n",
    "    plt.show()\n"
   ]
  },
  {
   "cell_type": "code",
   "execution_count": null,
   "metadata": {},
   "outputs": [
    {
     "name": "stderr",
     "output_type": "stream",
     "text": [
      "c:\\users\\sweta\\appdata\\local\\programs\\python\\python36-32\\lib\\site-packages\\IPython\\core\\interactiveshell.py:2728: DtypeWarning: Columns (4,24,28) have mixed types. Specify dtype option on import or set low_memory=False.\n",
      "  interactivity=interactivity, compiler=compiler, result=result)\n"
     ]
    }
   ],
   "source": [
    "payroll = pd.read_csv(\"processed_data.csv\")\n",
    "twosamplettest(payroll,2013, 2014, 'total_payments')"
   ]
  },
  {
   "cell_type": "code",
   "execution_count": null,
   "metadata": {},
   "outputs": [],
   "source": [
    "twosamplettest(payroll,2014, 2015, 'total_payments')"
   ]
  },
  {
   "cell_type": "code",
   "execution_count": null,
   "metadata": {},
   "outputs": [],
   "source": [
    "twosamplettest(payroll,2015, 2016, 'total_payments')"
   ]
  },
  {
   "cell_type": "code",
   "execution_count": null,
   "metadata": {},
   "outputs": [],
   "source": [
    "twosamplettest(payroll,2013, 2014, 'average_benefit_cost')"
   ]
  },
  {
   "cell_type": "code",
   "execution_count": null,
   "metadata": {},
   "outputs": [],
   "source": [
    "twosamplettest(payroll,2014, 2015, 'average_benefit_cost')"
   ]
  },
  {
   "cell_type": "code",
   "execution_count": null,
   "metadata": {},
   "outputs": [],
   "source": [
    "twosamplettest(payroll,2015, 2016, 'average_benefit_cost')"
   ]
  },
  {
   "cell_type": "code",
   "execution_count": null,
   "metadata": {},
   "outputs": [],
   "source": [
    "def outlier_range(x):\n",
    "    x = np.array(x)\n",
    "    upper_q = np.percentile(x, 75)\n",
    "    lower_q = np.percentile(x, 25)\n",
    "    iqr = (upper_q - lower_q) * 1.5\n",
    "    #print(\"IQR:\",iqr,\" lower:\",lower_q,\" upper:\",upper_q)\n",
    "    acceptable_range = (lower_q - iqr, upper_q + iqr)\n",
    "    return acceptable_range"
   ]
  },
  {
   "cell_type": "code",
   "execution_count": null,
   "metadata": {},
   "outputs": [],
   "source": [
    "def pairedT_test(payroll,year1, year2, attribute):\n",
    "    payroll_y1 = payroll[payroll.year ==year1]\n",
    "    payroll_y2 = payroll[payroll.year ==year2]\n",
    "    \n",
    "    #Data Pre-processing\n",
    "    payroll_y1 = payroll_y1[payroll_y1[attribute] != 0]\n",
    "    payroll_y2 = payroll_y2[payroll_y2[attribute] != 0]\n",
    "    \n",
    "    clean_y1 = payroll_y1[attribute].values\n",
    "    index = []\n",
    "    for i in range(len(clean_y1)):\n",
    "        if clean_y1[i] < -45098.666250000002 and clean_y1[i] > 209266.00375:\n",
    "            index.append(i)\n",
    "    clean_y1 = np.delete(clean_y1,index)\n",
    "    \n",
    "    clean_y2 = payroll_y2[attribute].values\n",
    "    index = []\n",
    "    for i in range(len(clean_y2)):\n",
    "        if clean_y2[i] < -45098.666250000002 and clean_y2[i] > 209266.00375:\n",
    "            index.append(i)\n",
    "    clean_y2 = np.delete(clean_y2,index)\n",
    "#     print(len(clean_y1),len(clean_y2))\n",
    "    \n",
    "    #find difference\n",
    "    diff =[]\n",
    "    for i in range(min(len(clean_y1),len(clean_y2))):\n",
    "        diff.append(abs(clean_y1[i]-clean_y2[i]))\n",
    "    diff = np.array(diff)\n",
    "    avg = np.mean(diff)\n",
    "    std = np.std(diff)\n",
    "#     print(std)\n",
    "    pairedt = (avg*math.sqrt(len(diff)))/std\n",
    "    print(\"Paired T-statistic = \", pairedt)\n",
    "    tcritical = dists.t.ppf(1-(0.05)/2, len(diff)-1) \n",
    "    print(\"T-Critical = \",tcritical)\n",
    "    if pairedt > tcritical:\n",
    "        print(\"H0 : Pay did not increase from 2014 to 2015, rejected.\")\n",
    "    else:\n",
    "        print(\"H1 : Pay increases from 2014 to 2015, accepted. \")\n",
    "    "
   ]
  },
  {
   "cell_type": "code",
   "execution_count": null,
   "metadata": {},
   "outputs": [],
   "source": [
    "pairedT_test(payroll,2014, 2015, 'total_payments')"
   ]
  },
  {
   "cell_type": "code",
   "execution_count": null,
   "metadata": {},
   "outputs": [],
   "source": []
  }
 ],
 "metadata": {
  "kernelspec": {
   "display_name": "Python 3",
   "language": "python",
   "name": "python3"
  },
  "language_info": {
   "codemirror_mode": {
    "name": "ipython",
    "version": 3
   },
   "file_extension": ".py",
   "mimetype": "text/x-python",
   "name": "python",
   "nbconvert_exporter": "python",
   "pygments_lexer": "ipython3",
   "version": "3.6.2"
  }
 },
 "nbformat": 4,
 "nbformat_minor": 2
}
